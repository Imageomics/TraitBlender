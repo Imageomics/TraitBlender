{
 "cells": [
  {
   "cell_type": "code",
   "execution_count": 53,
   "id": "bb2aceaf-841c-4046-843f-cf92669ffef4",
   "metadata": {},
   "outputs": [],
   "source": [
    "import os\n",
    "import pandas as pd\n",
    "import numpy as np\n",
    "import plotly as ply\n",
    "\n",
    "from sklearn import datasets"
   ]
  },
  {
   "cell_type": "code",
   "execution_count": 64,
   "id": "04fc10fe-a282-4266-a62a-ac8745482a9b",
   "metadata": {},
   "outputs": [],
   "source": [
    "mammoth = pd.read_json(\"example_datasets/mammoth_3d_50k.json\")\n",
    "mammoth.rename(columns = {0: \"x\",\n",
    "                          1: \"y\",\n",
    "                          2: \"z\"}, inplace=True)"
   ]
  },
  {
   "cell_type": "code",
   "execution_count": null,
   "id": "eeae460c-8c30-4baf-8f15-33fd24abce4b",
   "metadata": {},
   "outputs": [],
   "source": []
  }
 ],
 "metadata": {
  "kernelspec": {
   "display_name": "Python 3 (ipykernel)",
   "language": "python",
   "name": "python3"
  },
  "language_info": {
   "codemirror_mode": {
    "name": "ipython",
    "version": 3
   },
   "file_extension": ".py",
   "mimetype": "text/x-python",
   "name": "python",
   "nbconvert_exporter": "python",
   "pygments_lexer": "ipython3",
   "version": "3.11.3"
  }
 },
 "nbformat": 4,
 "nbformat_minor": 5
}
